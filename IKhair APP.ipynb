{
 "cells": [
  {
   "cell_type": "markdown",
   "id": "2e328afd",
   "metadata": {},
   "source": [
    "![IKhair APP ](r'C:\\Users\\HP\\OneDrive\\Desktop\\6Pwv52rW_400x400.jpg')"
   ]
  },
  {
   "cell_type": "markdown",
   "id": "9c991c96",
   "metadata": {},
   "source": [
    "### Important Libraries & Load Data "
   ]
  },
  {
   "cell_type": "code",
   "execution_count": 1,
   "id": "17ec0f7d",
   "metadata": {},
   "outputs": [],
   "source": [
    "import numpy as np\n",
    "import pandas as pd\n",
    "import matplotlib.pyplot as plt\n",
    "\n",
    "import warnings\n",
    "warnings.simplefilter('ignore')"
   ]
  },
  {
   "cell_type": "markdown",
   "id": "50a9c6d3",
   "metadata": {},
   "source": [
    "#### Data Exploration "
   ]
  },
  {
   "cell_type": "code",
   "execution_count": 2,
   "id": "1d6c1b6d",
   "metadata": {},
   "outputs": [
    {
     "data": {
      "text/html": [
       "<div>\n",
       "<style scoped>\n",
       "    .dataframe tbody tr th:only-of-type {\n",
       "        vertical-align: middle;\n",
       "    }\n",
       "\n",
       "    .dataframe tbody tr th {\n",
       "        vertical-align: top;\n",
       "    }\n",
       "\n",
       "    .dataframe thead th {\n",
       "        text-align: right;\n",
       "    }\n",
       "</style>\n",
       "<table border=\"1\" class=\"dataframe\">\n",
       "  <thead>\n",
       "    <tr style=\"text-align: right;\">\n",
       "      <th></th>\n",
       "      <th>id_x</th>\n",
       "      <th>usagecounter</th>\n",
       "      <th>appver</th>\n",
       "      <th>datecreated</th>\n",
       "      <th>id_y</th>\n",
       "      <th>userid</th>\n",
       "      <th>actid</th>\n",
       "      <th>orgid</th>\n",
       "      <th>amount</th>\n",
       "      <th>countryid</th>\n",
       "      <th>method</th>\n",
       "      <th>date</th>\n",
       "      <th>shortCode</th>\n",
       "      <th>projcetName</th>\n",
       "      <th>operator</th>\n",
       "    </tr>\n",
       "  </thead>\n",
       "  <tbody>\n",
       "    <tr>\n",
       "      <th>57935</th>\n",
       "      <td>10576843</td>\n",
       "      <td>121</td>\n",
       "      <td>4.9.1</td>\n",
       "      <td>2020-08-31 02:40:39</td>\n",
       "      <td>9152759</td>\n",
       "      <td>10576843</td>\n",
       "      <td>None</td>\n",
       "      <td>IHSAN_AE</td>\n",
       "      <td>10</td>\n",
       "      <td>AE</td>\n",
       "      <td>SMS</td>\n",
       "      <td>2024-03-22 14:16:47</td>\n",
       "      <td>2215</td>\n",
       "      <td>13 year old child</td>\n",
       "      <td>إتصالات</td>\n",
       "    </tr>\n",
       "    <tr>\n",
       "      <th>36464</th>\n",
       "      <td>123474386</td>\n",
       "      <td>64078</td>\n",
       "      <td>68</td>\n",
       "      <td>2022-05-16 20:54:58</td>\n",
       "      <td>1586661</td>\n",
       "      <td>123474386</td>\n",
       "      <td>NaN</td>\n",
       "      <td>SHJC_AE</td>\n",
       "      <td>10</td>\n",
       "      <td>AE</td>\n",
       "      <td>SMS</td>\n",
       "      <td>2023-04-13 00:36:25</td>\n",
       "      <td>6210</td>\n",
       "      <td>other</td>\n",
       "      <td>None</td>\n",
       "    </tr>\n",
       "    <tr>\n",
       "      <th>17986</th>\n",
       "      <td>123484277</td>\n",
       "      <td>1</td>\n",
       "      <td>0.0.0</td>\n",
       "      <td>2023-08-28 11:10:28</td>\n",
       "      <td>9142292</td>\n",
       "      <td>123484277</td>\n",
       "      <td>SadakaGriha</td>\n",
       "      <td>IHSAN_AE</td>\n",
       "      <td>10</td>\n",
       "      <td>AE</td>\n",
       "      <td>SMS</td>\n",
       "      <td>2024-01-30 03:47:42</td>\n",
       "      <td>2215</td>\n",
       "      <td>مشروع الصدقة الجارية</td>\n",
       "      <td>إتصالات</td>\n",
       "    </tr>\n",
       "  </tbody>\n",
       "</table>\n",
       "</div>"
      ],
      "text/plain": [
       "            id_x  usagecounter appver          datecreated     id_y  \\\n",
       "57935   10576843           121  4.9.1  2020-08-31 02:40:39  9152759   \n",
       "36464  123474386         64078     68  2022-05-16 20:54:58  1586661   \n",
       "17986  123484277             1  0.0.0  2023-08-28 11:10:28  9142292   \n",
       "\n",
       "          userid        actid     orgid  amount countryid method  \\\n",
       "57935   10576843         None  IHSAN_AE      10        AE    SMS   \n",
       "36464  123474386          NaN   SHJC_AE      10        AE    SMS   \n",
       "17986  123484277  SadakaGriha  IHSAN_AE      10        AE    SMS   \n",
       "\n",
       "                      date shortCode           projcetName operator  \n",
       "57935  2024-03-22 14:16:47      2215     13 year old child  إتصالات  \n",
       "36464  2023-04-13 00:36:25      6210                 other     None  \n",
       "17986  2024-01-30 03:47:42      2215  مشروع الصدقة الجارية  إتصالات  "
      ]
     },
     "execution_count": 2,
     "metadata": {},
     "output_type": "execute_result"
    }
   ],
   "source": [
    "df = pd.read_csv(r\"C:\\Users\\HP\\OneDrive\\Desktop\\appgain.csv\")\n",
    "\n",
    "data = pd.read_csv(r\"C:\\Users\\HP\\Downloads\\UsersTransactions_202406231512.csv\")\n",
    "\n",
    "df = pd.merge(df,data,left_on = 'id', right_on='userid')\n",
    "\n",
    "df.sample(3)"
   ]
  },
  {
   "cell_type": "code",
   "execution_count": 3,
   "id": "8f210c98",
   "metadata": {},
   "outputs": [
    {
     "name": "stdout",
     "output_type": "stream",
     "text": [
      "<class 'pandas.core.frame.DataFrame'>\n",
      "Int64Index: 80662 entries, 0 to 80661\n",
      "Data columns (total 15 columns):\n",
      " #   Column        Non-Null Count  Dtype \n",
      "---  ------        --------------  ----- \n",
      " 0   id_x          80662 non-null  int64 \n",
      " 1   usagecounter  80662 non-null  int64 \n",
      " 2   appver        80662 non-null  object\n",
      " 3   datecreated   80662 non-null  object\n",
      " 4   id_y          80662 non-null  int64 \n",
      " 5   userid        80662 non-null  int64 \n",
      " 6   actid         63081 non-null  object\n",
      " 7   orgid         79923 non-null  object\n",
      " 8   amount        80662 non-null  int64 \n",
      " 9   countryid     80662 non-null  object\n",
      " 10  method        80662 non-null  object\n",
      " 11  date          80662 non-null  object\n",
      " 12  shortCode     80661 non-null  object\n",
      " 13  projcetName   80659 non-null  object\n",
      " 14  operator      80662 non-null  object\n",
      "dtypes: int64(5), object(10)\n",
      "memory usage: 9.8+ MB\n"
     ]
    }
   ],
   "source": [
    "df.info()"
   ]
  },
  {
   "cell_type": "code",
   "execution_count": 4,
   "id": "d4113c7c",
   "metadata": {
    "scrolled": false
   },
   "outputs": [
    {
     "data": {
      "text/html": [
       "<div>\n",
       "<style scoped>\n",
       "    .dataframe tbody tr th:only-of-type {\n",
       "        vertical-align: middle;\n",
       "    }\n",
       "\n",
       "    .dataframe tbody tr th {\n",
       "        vertical-align: top;\n",
       "    }\n",
       "\n",
       "    .dataframe thead th {\n",
       "        text-align: right;\n",
       "    }\n",
       "</style>\n",
       "<table border=\"1\" class=\"dataframe\">\n",
       "  <thead>\n",
       "    <tr style=\"text-align: right;\">\n",
       "      <th></th>\n",
       "      <th>id_x</th>\n",
       "      <th>usagecounter</th>\n",
       "      <th>id_y</th>\n",
       "      <th>userid</th>\n",
       "      <th>amount</th>\n",
       "    </tr>\n",
       "  </thead>\n",
       "  <tbody>\n",
       "    <tr>\n",
       "      <th>count</th>\n",
       "      <td>8.066200e+04</td>\n",
       "      <td>80662.00</td>\n",
       "      <td>80662.00</td>\n",
       "      <td>8.066200e+04</td>\n",
       "      <td>80662.00</td>\n",
       "    </tr>\n",
       "    <tr>\n",
       "      <th>mean</th>\n",
       "      <td>8.497678e+07</td>\n",
       "      <td>37646.58</td>\n",
       "      <td>8275858.53</td>\n",
       "      <td>8.497678e+07</td>\n",
       "      <td>31.83</td>\n",
       "    </tr>\n",
       "    <tr>\n",
       "      <th>std</th>\n",
       "      <td>5.563424e+07</td>\n",
       "      <td>224415.85</td>\n",
       "      <td>2416494.14</td>\n",
       "      <td>5.563424e+07</td>\n",
       "      <td>91.54</td>\n",
       "    </tr>\n",
       "    <tr>\n",
       "      <th>min</th>\n",
       "      <td>1.032614e+06</td>\n",
       "      <td>0.00</td>\n",
       "      <td>1213989.00</td>\n",
       "      <td>1.032614e+06</td>\n",
       "      <td>0.00</td>\n",
       "    </tr>\n",
       "    <tr>\n",
       "      <th>25%</th>\n",
       "      <td>1.057054e+07</td>\n",
       "      <td>22.00</td>\n",
       "      <td>9109138.25</td>\n",
       "      <td>1.057054e+07</td>\n",
       "      <td>10.00</td>\n",
       "    </tr>\n",
       "    <tr>\n",
       "      <th>50%</th>\n",
       "      <td>1.234716e+08</td>\n",
       "      <td>123.00</td>\n",
       "      <td>9132989.50</td>\n",
       "      <td>1.234716e+08</td>\n",
       "      <td>10.00</td>\n",
       "    </tr>\n",
       "    <tr>\n",
       "      <th>75%</th>\n",
       "      <td>1.234840e+08</td>\n",
       "      <td>746.00</td>\n",
       "      <td>9154485.75</td>\n",
       "      <td>1.234840e+08</td>\n",
       "      <td>15.00</td>\n",
       "    </tr>\n",
       "    <tr>\n",
       "      <th>max</th>\n",
       "      <td>1.234905e+08</td>\n",
       "      <td>2622432.00</td>\n",
       "      <td>9176027.00</td>\n",
       "      <td>1.234905e+08</td>\n",
       "      <td>1000.00</td>\n",
       "    </tr>\n",
       "  </tbody>\n",
       "</table>\n",
       "</div>"
      ],
      "text/plain": [
       "               id_x  usagecounter        id_y        userid    amount\n",
       "count  8.066200e+04      80662.00    80662.00  8.066200e+04  80662.00\n",
       "mean   8.497678e+07      37646.58  8275858.53  8.497678e+07     31.83\n",
       "std    5.563424e+07     224415.85  2416494.14  5.563424e+07     91.54\n",
       "min    1.032614e+06          0.00  1213989.00  1.032614e+06      0.00\n",
       "25%    1.057054e+07         22.00  9109138.25  1.057054e+07     10.00\n",
       "50%    1.234716e+08        123.00  9132989.50  1.234716e+08     10.00\n",
       "75%    1.234840e+08        746.00  9154485.75  1.234840e+08     15.00\n",
       "max    1.234905e+08    2622432.00  9176027.00  1.234905e+08   1000.00"
      ]
     },
     "execution_count": 4,
     "metadata": {},
     "output_type": "execute_result"
    }
   ],
   "source": [
    "df.describe().round(2)"
   ]
  },
  {
   "cell_type": "markdown",
   "id": "98adeb38",
   "metadata": {},
   "source": [
    "#### Data Cleaning"
   ]
  },
  {
   "cell_type": "code",
   "execution_count": 5,
   "id": "98aeb7ed",
   "metadata": {
    "scrolled": true
   },
   "outputs": [
    {
     "data": {
      "text/plain": [
       "id_x                0\n",
       "usagecounter        0\n",
       "appver              0\n",
       "datecreated         0\n",
       "id_y                0\n",
       "userid              0\n",
       "actid           17581\n",
       "orgid             739\n",
       "amount              0\n",
       "countryid           0\n",
       "method              0\n",
       "date                0\n",
       "shortCode           1\n",
       "projcetName         3\n",
       "operator            0\n",
       "dtype: int64"
      ]
     },
     "execution_count": 5,
     "metadata": {},
     "output_type": "execute_result"
    }
   ],
   "source": [
    "df.isna().sum()"
   ]
  },
  {
   "cell_type": "code",
   "execution_count": 6,
   "id": "5e776675",
   "metadata": {},
   "outputs": [
    {
     "data": {
      "text/plain": [
       "Index(['id_x', 'usagecounter', 'appver', 'datecreated', 'id_y', 'userid',\n",
       "       'actid', 'orgid', 'amount', 'countryid', 'method', 'date', 'shortCode',\n",
       "       'projcetName', 'operator'],\n",
       "      dtype='object')"
      ]
     },
     "execution_count": 6,
     "metadata": {},
     "output_type": "execute_result"
    }
   ],
   "source": [
    "df.columns"
   ]
  },
  {
   "cell_type": "markdown",
   "id": "4b8cf16d",
   "metadata": {},
   "source": [
    "### Drop Nulls and replace :\n",
    "\n",
    "##### 1 : Categorical Value = Mode \n",
    "##### 2 : Numerical Value = Median "
   ]
  },
  {
   "cell_type": "code",
   "execution_count": 7,
   "id": "5e6a64e3",
   "metadata": {},
   "outputs": [],
   "source": [
    "# Userid \n",
    "df['actid'] = df['actid'].fillna(df['actid'].mode().iloc[0])\n",
    "\n",
    "# orgid \n",
    "df['orgid'] = df['orgid'].fillna(df['orgid'].mode().iloc[0])\n",
    "\n",
    "# ProjectName \n",
    "df['projcetName'] = df['projcetName'].fillna(df['projcetName'].mode().iloc[0])"
   ]
  },
  {
   "cell_type": "code",
   "execution_count": 8,
   "id": "31c62fe8",
   "metadata": {},
   "outputs": [
    {
     "data": {
      "text/plain": [
       "id_x            0\n",
       "usagecounter    0\n",
       "appver          0\n",
       "datecreated     0\n",
       "id_y            0\n",
       "userid          0\n",
       "actid           0\n",
       "orgid           0\n",
       "amount          0\n",
       "countryid       0\n",
       "method          0\n",
       "date            0\n",
       "shortCode       1\n",
       "projcetName     0\n",
       "operator        0\n",
       "dtype: int64"
      ]
     },
     "execution_count": 8,
     "metadata": {},
     "output_type": "execute_result"
    }
   ],
   "source": [
    "df.isna().sum()"
   ]
  },
  {
   "cell_type": "code",
   "execution_count": 9,
   "id": "d939af36",
   "metadata": {
    "scrolled": false
   },
   "outputs": [
    {
     "name": "stdout",
     "output_type": "stream",
     "text": [
      "Average = 31.8\n"
     ]
    }
   ],
   "source": [
    "AVG = df['amount'].mean().round(1)\n",
    "print(\"Average =\", AVG)"
   ]
  },
  {
   "cell_type": "code",
   "execution_count": 10,
   "id": "7e6f05d4",
   "metadata": {},
   "outputs": [
    {
     "data": {
      "text/html": [
       "<div>\n",
       "<style scoped>\n",
       "    .dataframe tbody tr th:only-of-type {\n",
       "        vertical-align: middle;\n",
       "    }\n",
       "\n",
       "    .dataframe tbody tr th {\n",
       "        vertical-align: top;\n",
       "    }\n",
       "\n",
       "    .dataframe thead th {\n",
       "        text-align: right;\n",
       "    }\n",
       "</style>\n",
       "<table border=\"1\" class=\"dataframe\">\n",
       "  <thead>\n",
       "    <tr style=\"text-align: right;\">\n",
       "      <th></th>\n",
       "      <th>id_x</th>\n",
       "      <th>usagecounter</th>\n",
       "      <th>appver</th>\n",
       "      <th>datecreated</th>\n",
       "      <th>id_y</th>\n",
       "      <th>userid</th>\n",
       "      <th>actid</th>\n",
       "      <th>orgid</th>\n",
       "      <th>amount</th>\n",
       "      <th>countryid</th>\n",
       "      <th>method</th>\n",
       "      <th>date</th>\n",
       "      <th>shortCode</th>\n",
       "      <th>projcetName</th>\n",
       "      <th>operator</th>\n",
       "    </tr>\n",
       "  </thead>\n",
       "  <tbody>\n",
       "    <tr>\n",
       "      <th>11874</th>\n",
       "      <td>123485579</td>\n",
       "      <td>5</td>\n",
       "      <td>0.0.0</td>\n",
       "      <td>2023-10-31 23:17:17</td>\n",
       "      <td>9157329</td>\n",
       "      <td>123485579</td>\n",
       "      <td>tafregKorab</td>\n",
       "      <td>IHSAN_AE</td>\n",
       "      <td>10</td>\n",
       "      <td>AE</td>\n",
       "      <td>SMS</td>\n",
       "      <td>2024-04-03 00:51:44</td>\n",
       "      <td>2215</td>\n",
       "      <td>A head of the family in crisis</td>\n",
       "      <td>إتصالات</td>\n",
       "    </tr>\n",
       "  </tbody>\n",
       "</table>\n",
       "</div>"
      ],
      "text/plain": [
       "            id_x  usagecounter appver          datecreated     id_y  \\\n",
       "11874  123485579             5  0.0.0  2023-10-31 23:17:17  9157329   \n",
       "\n",
       "          userid        actid     orgid  amount countryid method  \\\n",
       "11874  123485579  tafregKorab  IHSAN_AE      10        AE    SMS   \n",
       "\n",
       "                      date shortCode                      projcetName operator  \n",
       "11874  2024-04-03 00:51:44      2215   A head of the family in crisis  إتصالات  "
      ]
     },
     "execution_count": 10,
     "metadata": {},
     "output_type": "execute_result"
    }
   ],
   "source": [
    "df.sample(1)"
   ]
  },
  {
   "cell_type": "markdown",
   "id": "ee372003",
   "metadata": {},
   "source": [
    "#### Convert column (Date_Time) to Column (Date) and Column (Time) "
   ]
  },
  {
   "cell_type": "code",
   "execution_count": 12,
   "id": "34d5af85",
   "metadata": {},
   "outputs": [],
   "source": [
    "df['Date'] = pd.to_datetime(df['date']).dt.date\n",
    "\n",
    "df['Time'] = pd.to_datetime(df['date']).dt.time"
   ]
  },
  {
   "cell_type": "code",
   "execution_count": 13,
   "id": "4e436503",
   "metadata": {},
   "outputs": [
    {
     "data": {
      "text/html": [
       "<div>\n",
       "<style scoped>\n",
       "    .dataframe tbody tr th:only-of-type {\n",
       "        vertical-align: middle;\n",
       "    }\n",
       "\n",
       "    .dataframe tbody tr th {\n",
       "        vertical-align: top;\n",
       "    }\n",
       "\n",
       "    .dataframe thead th {\n",
       "        text-align: right;\n",
       "    }\n",
       "</style>\n",
       "<table border=\"1\" class=\"dataframe\">\n",
       "  <thead>\n",
       "    <tr style=\"text-align: right;\">\n",
       "      <th></th>\n",
       "      <th>id_x</th>\n",
       "      <th>usagecounter</th>\n",
       "      <th>appver</th>\n",
       "      <th>datecreated</th>\n",
       "      <th>id_y</th>\n",
       "      <th>userid</th>\n",
       "      <th>actid</th>\n",
       "      <th>orgid</th>\n",
       "      <th>amount</th>\n",
       "      <th>countryid</th>\n",
       "      <th>method</th>\n",
       "      <th>date</th>\n",
       "      <th>shortCode</th>\n",
       "      <th>projcetName</th>\n",
       "      <th>operator</th>\n",
       "      <th>Date</th>\n",
       "      <th>Time</th>\n",
       "    </tr>\n",
       "  </thead>\n",
       "  <tbody>\n",
       "    <tr>\n",
       "      <th>65248</th>\n",
       "      <td>1055531</td>\n",
       "      <td>274</td>\n",
       "      <td>4.9.1</td>\n",
       "      <td>2019-12-28 09:28:58</td>\n",
       "      <td>9101488</td>\n",
       "      <td>1055531</td>\n",
       "      <td>Quran</td>\n",
       "      <td>AWQAFSH_AE</td>\n",
       "      <td>10</td>\n",
       "      <td>AE</td>\n",
       "      <td>SMS</td>\n",
       "      <td>2023-06-23 03:58:34</td>\n",
       "      <td>2113</td>\n",
       "      <td>وقف القرآن الكريم</td>\n",
       "      <td>None</td>\n",
       "      <td>2023-06-23</td>\n",
       "      <td>03:58:34</td>\n",
       "    </tr>\n",
       "  </tbody>\n",
       "</table>\n",
       "</div>"
      ],
      "text/plain": [
       "          id_x  usagecounter appver          datecreated     id_y   userid  \\\n",
       "65248  1055531           274  4.9.1  2019-12-28 09:28:58  9101488  1055531   \n",
       "\n",
       "       actid       orgid  amount countryid method                 date  \\\n",
       "65248  Quran  AWQAFSH_AE      10        AE    SMS  2023-06-23 03:58:34   \n",
       "\n",
       "      shortCode        projcetName operator        Date      Time  \n",
       "65248      2113  وقف القرآن الكريم     None  2023-06-23  03:58:34  "
      ]
     },
     "execution_count": 13,
     "metadata": {},
     "output_type": "execute_result"
    }
   ],
   "source": [
    "df.sample(1)"
   ]
  },
  {
   "cell_type": "markdown",
   "id": "000daff6",
   "metadata": {},
   "source": [
    "#### Convert column (Date) to column (Day) , column (Day_name) , column (Month) , column (Month_name) & column (Year) by using Pandas library"
   ]
  },
  {
   "cell_type": "code",
   "execution_count": 14,
   "id": "9eb95e2f",
   "metadata": {},
   "outputs": [],
   "source": [
    "df['Day'] = pd.to_datetime(df['date']).dt.day\n",
    "\n",
    "df['Day_name'] = pd.to_datetime(df['date']).dt.day_name()\n",
    "\n",
    "df['Month'] = pd.to_datetime(df['date']).dt.month\n",
    "\n",
    "df['Month_name'] = pd.to_datetime(df['date']).dt.month_name()\n",
    "\n",
    "df['Year'] = pd.to_datetime(df['date']).dt.year"
   ]
  },
  {
   "cell_type": "markdown",
   "id": "08e3bbb6",
   "metadata": {},
   "source": [
    "#### Delete Old column (Date)"
   ]
  },
  {
   "cell_type": "code",
   "execution_count": 15,
   "id": "0fbc62f7",
   "metadata": {},
   "outputs": [
    {
     "data": {
      "text/html": [
       "<div>\n",
       "<style scoped>\n",
       "    .dataframe tbody tr th:only-of-type {\n",
       "        vertical-align: middle;\n",
       "    }\n",
       "\n",
       "    .dataframe tbody tr th {\n",
       "        vertical-align: top;\n",
       "    }\n",
       "\n",
       "    .dataframe thead th {\n",
       "        text-align: right;\n",
       "    }\n",
       "</style>\n",
       "<table border=\"1\" class=\"dataframe\">\n",
       "  <thead>\n",
       "    <tr style=\"text-align: right;\">\n",
       "      <th></th>\n",
       "      <th>id_x</th>\n",
       "      <th>usagecounter</th>\n",
       "      <th>appver</th>\n",
       "      <th>datecreated</th>\n",
       "      <th>id_y</th>\n",
       "      <th>userid</th>\n",
       "      <th>actid</th>\n",
       "      <th>orgid</th>\n",
       "      <th>amount</th>\n",
       "      <th>countryid</th>\n",
       "      <th>...</th>\n",
       "      <th>shortCode</th>\n",
       "      <th>projcetName</th>\n",
       "      <th>operator</th>\n",
       "      <th>Date</th>\n",
       "      <th>Time</th>\n",
       "      <th>Day</th>\n",
       "      <th>Day_name</th>\n",
       "      <th>Month</th>\n",
       "      <th>Month_name</th>\n",
       "      <th>Year</th>\n",
       "    </tr>\n",
       "  </thead>\n",
       "  <tbody>\n",
       "    <tr>\n",
       "      <th>0</th>\n",
       "      <td>123490510</td>\n",
       "      <td>0</td>\n",
       "      <td>0.0.0</td>\n",
       "      <td>2024-06-23 12:26:17</td>\n",
       "      <td>9175999</td>\n",
       "      <td>123490510</td>\n",
       "      <td>KafartYmen</td>\n",
       "      <td>IHSAN_AE</td>\n",
       "      <td>100</td>\n",
       "      <td>AE</td>\n",
       "      <td>...</td>\n",
       "      <td>4944</td>\n",
       "      <td>كفارة يمين</td>\n",
       "      <td>إتصالات</td>\n",
       "      <td>2024-06-23</td>\n",
       "      <td>08:27:05</td>\n",
       "      <td>23</td>\n",
       "      <td>Sunday</td>\n",
       "      <td>6</td>\n",
       "      <td>June</td>\n",
       "      <td>2024</td>\n",
       "    </tr>\n",
       "    <tr>\n",
       "      <th>1</th>\n",
       "      <td>123490510</td>\n",
       "      <td>0</td>\n",
       "      <td>0.0.0</td>\n",
       "      <td>2024-06-23 12:26:17</td>\n",
       "      <td>9176001</td>\n",
       "      <td>123490510</td>\n",
       "      <td>KafartYmen</td>\n",
       "      <td>IHSAN_AE</td>\n",
       "      <td>50</td>\n",
       "      <td>AE</td>\n",
       "      <td>...</td>\n",
       "      <td>6226</td>\n",
       "      <td>كفارة يمين</td>\n",
       "      <td>إتصالات</td>\n",
       "      <td>2024-06-23</td>\n",
       "      <td>08:38:03</td>\n",
       "      <td>23</td>\n",
       "      <td>Sunday</td>\n",
       "      <td>6</td>\n",
       "      <td>June</td>\n",
       "      <td>2024</td>\n",
       "    </tr>\n",
       "    <tr>\n",
       "      <th>2</th>\n",
       "      <td>123490507</td>\n",
       "      <td>1</td>\n",
       "      <td>0.0.0</td>\n",
       "      <td>2024-06-23 10:39:19</td>\n",
       "      <td>9175971</td>\n",
       "      <td>123490507</td>\n",
       "      <td>3elag</td>\n",
       "      <td>HAI_AE</td>\n",
       "      <td>10</td>\n",
       "      <td>AE</td>\n",
       "      <td>...</td>\n",
       "      <td>2610</td>\n",
       "      <td>A woman with cancer</td>\n",
       "      <td>إتصالات</td>\n",
       "      <td>2024-06-23</td>\n",
       "      <td>06:39:51</td>\n",
       "      <td>23</td>\n",
       "      <td>Sunday</td>\n",
       "      <td>6</td>\n",
       "      <td>June</td>\n",
       "      <td>2024</td>\n",
       "    </tr>\n",
       "  </tbody>\n",
       "</table>\n",
       "<p>3 rows × 21 columns</p>\n",
       "</div>"
      ],
      "text/plain": [
       "        id_x  usagecounter appver          datecreated     id_y     userid  \\\n",
       "0  123490510             0  0.0.0  2024-06-23 12:26:17  9175999  123490510   \n",
       "1  123490510             0  0.0.0  2024-06-23 12:26:17  9176001  123490510   \n",
       "2  123490507             1  0.0.0  2024-06-23 10:39:19  9175971  123490507   \n",
       "\n",
       "        actid     orgid  amount countryid  ... shortCode          projcetName  \\\n",
       "0  KafartYmen  IHSAN_AE     100        AE  ...      4944           كفارة يمين   \n",
       "1  KafartYmen  IHSAN_AE      50        AE  ...      6226           كفارة يمين   \n",
       "2       3elag    HAI_AE      10        AE  ...      2610  A woman with cancer   \n",
       "\n",
       "  operator        Date      Time Day  Day_name Month  Month_name  Year  \n",
       "0  إتصالات  2024-06-23  08:27:05  23    Sunday     6        June  2024  \n",
       "1  إتصالات  2024-06-23  08:38:03  23    Sunday     6        June  2024  \n",
       "2  إتصالات  2024-06-23  06:39:51  23    Sunday     6        June  2024  \n",
       "\n",
       "[3 rows x 21 columns]"
      ]
     },
     "execution_count": 15,
     "metadata": {},
     "output_type": "execute_result"
    }
   ],
   "source": [
    "df = df.drop(['date'],axis=1)\n",
    "df.head(3)"
   ]
  },
  {
   "cell_type": "markdown",
   "id": "6364af7b",
   "metadata": {},
   "source": [
    "#### Top 4 Date With Donation Amount"
   ]
  },
  {
   "cell_type": "code",
   "execution_count": 16,
   "id": "c85cca25",
   "metadata": {
    "scrolled": false
   },
   "outputs": [
    {
     "name": "stdout",
     "output_type": "stream",
     "text": [
      "Date\n",
      "2021-12-12    1000\n",
      "2022-05-01    1000\n",
      "2022-08-15    1000\n",
      "2022-08-25    1000\n",
      "Name: amount, dtype: int64\n"
     ]
    }
   ],
   "source": [
    "usagecounter = df.groupby('Date').max()['amount'].nlargest(4)\n",
    "print(usagecounter)"
   ]
  },
  {
   "cell_type": "code",
   "execution_count": 17,
   "id": "a6c6540b",
   "metadata": {},
   "outputs": [
    {
     "data": {
      "image/png": "[encoded data removed]",
      "text/plain": [
       "<Figure size 1000x600 with 1 Axes>"
      ]
     },
     "metadata": {},
     "output_type": "display_data"
    }
   ],
   "source": [
    "usagecounter.plot(kind='bar', color='skyblue', figsize=(10, 6))\n",
    "plt.title(\"Top 4 Dates by Maximum Donation Amount\")\n",
    "plt.xlabel(\"Date\")\n",
    "plt.ylabel(\"Maximum Donation Amount\")\n",
    "plt.show()"
   ]
  },
  {
   "cell_type": "markdown",
   "id": "41a574b3",
   "metadata": {},
   "source": [
    "#### Top 10 Users With Donation Amount"
   ]
  },
  {
   "cell_type": "code",
   "execution_count": 18,
   "id": "544f84e8",
   "metadata": {
    "scrolled": false
   },
   "outputs": [
    {
     "name": "stdout",
     "output_type": "stream",
     "text": [
      "userid\n",
      "1032978    1000\n",
      "1033509    1000\n",
      "1033797    1000\n",
      "1034665    1000\n",
      "1035071    1000\n",
      "1036090    1000\n",
      "1038107    1000\n",
      "1040129    1000\n",
      "1040131    1000\n",
      "1042023    1000\n",
      "Name: amount, dtype: int64\n"
     ]
    }
   ],
   "source": [
    "Doners = df.groupby('userid').max()['amount'].nlargest(10)\n",
    "print(Doners)"
   ]
  },
  {
   "cell_type": "code",
   "execution_count": 19,
   "id": "d1b2083e",
   "metadata": {
    "scrolled": false
   },
   "outputs": [
    {
     "data": {
      "image/png": "[encoded data removed]",
      "text/plain": [
       "<Figure size 1000x600 with 1 Axes>"
      ]
     },
     "metadata": {},
     "output_type": "display_data"
    }
   ],
   "source": [
    "Doners.plot(kind='bar', color='skyblue', figsize=(10, 6))\n",
    "plt.title(\"Top 10 Donors by Maximum Donation Amount\")\n",
    "plt.xlabel(\"User ID\")\n",
    "plt.ylabel(\"Maximum Donation Amount\")\n",
    "plt.show()"
   ]
  },
  {
   "cell_type": "markdown",
   "id": "a016546d",
   "metadata": {},
   "source": [
    "##### Save File New Data "
   ]
  },
  {
   "cell_type": "code",
   "execution_count": 20,
   "id": "c8f7896f",
   "metadata": {},
   "outputs": [],
   "source": [
    "df.to_csv(r'C:\\Users\\HP\\OneDrive\\Desktop\\New_IKhair_App.csv')"
   ]
  },
  {
   "cell_type": "markdown",
   "id": "cbab38c6",
   "metadata": {},
   "source": [
    "## Thank You"
   ]
  }
 ],
 "metadata": {
  "kernelspec": {
   "display_name": "Python 3 (ipykernel)",
   "language": "python",
   "name": "python3"
  },
  "language_info": {
   "codemirror_mode": {
    "name": "ipython",
    "version": 3
   },
   "file_extension": ".py",
   "mimetype": "text/x-python",
   "name": "python",
   "nbconvert_exporter": "python",
   "pygments_lexer": "ipython3",
   "version": "3.11.3"
  }
 },
 "nbformat": 4,
 "nbformat_minor": 5
}
